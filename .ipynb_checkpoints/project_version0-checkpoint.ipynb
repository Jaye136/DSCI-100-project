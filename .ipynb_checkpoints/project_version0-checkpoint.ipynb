{
 "cells": [
  {
   "cell_type": "markdown",
   "id": "9610623b-ea17-432d-b073-7648cdd75086",
   "metadata": {},
   "source": [
    "# **Title**"
   ]
  },
  {
   "cell_type": "markdown",
   "id": "35058e7d-ad2c-49dc-ae84-ef6168501cfc",
   "metadata": {},
   "source": [
    "#### **Group members**\n",
    "> **Chau**, Alyson (45652765)\n",
    "<br>**Lee**, Jaye (83765560)\n",
    "<br>**Nejati**,Koorosh (65809485)\n",
    "<br>**Sun**, Oakley (48588198)"
   ]
  },
  {
   "cell_type": "markdown",
   "id": "880a6145-106a-4e8d-a0a4-3dff6a25fdb1",
   "metadata": {},
   "source": [
    "### **Introduction**"
   ]
  },
  {
   "cell_type": "markdown",
   "id": "aa9882e2-77e4-40b5-9b51-6337bcdb8e02",
   "metadata": {},
   "source": [
    "**ADD**: provide some relevant background information on the topic so that someone unfamiliar with it will be prepared to understand the rest of your report\n",
    "\n",
    "    This year, we are presented with a very interesting and fun opportunity, which includes working with data from a Minecraft server. The Pacific Laboratory for Artificial Intelligence, \n",
    "PLAI for short, led by Dr. Frank Wood has built a custom Minecraft server to collect real-time data on how individuals play and behave within the game world. However, running the Minecraft server involves real costs, such as software licensing, hardware, and human resources. To make the most of these investments, the team needs to focus on recruiting players who are most likely to generate a significant amount of usable data. \n",
    "This leads to our central research question: What skill set and age are most likely to contribute the most data?\n",
    "We will use the players.csv file provided to us, which includes data of 197 participants, as well as important information on them for our question such as played hours, age, and skillset. \n",
    "Answering this question will help the research team better target their recruitment strategy, ensuring their resources are used effectively while maximizing the amount of high-quality data collected from participants.\n"
   ]
  },
  {
   "cell_type": "markdown",
   "id": "90827c19-74b6-48f6-bbab-bc6aff56117e",
   "metadata": {},
   "source": [
    "**Basic information**\n",
    "\n",
    "<u>Broad question 2</u>: What skill set and age are most likely to contribute the most data?\n",
    "\n",
    "<u>Dataset used</u>: players.csv (197 rows, 7 cols)\n",
    ">Column name - *(if numeric)*: max/min/mean\n",
    "<br>Column name - *(if non-numeric)*: unique value (frequency in data)\n",
    "<br>&ensp;&ensp;- Ratio of values in data\n",
    "\n",
    "\\+ Game experience - pro (14), veteran (48), regular (36), amateur (63), beginner (35)\n",
    "<br>&ensp;&ensp;- 7%, 24%, 18%, 32%, 18%\n",
    "<br>+ Subscribed to game-related newsletter? - yes (144), no (52)\n",
    "<br>&ensp;&ensp; - 73%, 27%\n",
    "<br>+ Email study participant used\n",
    "<br>+ Hours spent on server - 223.1/0/5.84\n",
    "<br>+ Name of study participant\n",
    "<br>+ Gender of study participant - male (124), female (37), non-binary (15), prefer not to say (11), agender (2), two-spirited (6), other (1)\n",
    "<br>&ensp;&ensp;- 63%, 19%, 8%, 6%, 1%, 3%, 0.5%\n",
    "<br>+ Age of study participant - 50/8/25.5"
   ]
  },
  {
   "cell_type": "markdown",
   "id": "aef7518f-1654-4cbb-8a8b-e99dd13c6e34",
   "metadata": {},
   "source": [
    "### **Methods & Results**"
   ]
  },
  {
   "cell_type": "markdown",
   "id": "bd5a18ba-c636-4e54-98e1-f2055acfa283",
   "metadata": {},
   "source": [
    "**ADD**: method summary\n",
    "\\\n",
    "<u>*all*</u> non-code text under \\<temp> marks extra notes made during the coding process, should be deleted later. They are only for reference when writing the method summary.\n",
    "\\\n",
    "**TODO**: note: all figures should have a figure number and a legend"
   ]
  },
  {
   "cell_type": "code",
   "execution_count": 12,
   "id": "7088da88-0d2d-4fc9-96c0-05afa19af402",
   "metadata": {},
   "outputs": [
    {
     "name": "stderr",
     "output_type": "stream",
     "text": [
      "\u001b[1mRows: \u001b[22m\u001b[34m196\u001b[39m \u001b[1mColumns: \u001b[22m\u001b[34m7\u001b[39m\n",
      "\u001b[36m──\u001b[39m \u001b[1mColumn specification\u001b[22m \u001b[36m────────────────────────────────────────────────────────\u001b[39m\n",
      "\u001b[1mDelimiter:\u001b[22m \",\"\n",
      "\u001b[31mchr\u001b[39m (4): experience, hashedEmail, name, gender\n",
      "\u001b[32mdbl\u001b[39m (2): played_hours, Age\n",
      "\u001b[33mlgl\u001b[39m (1): subscribe\n",
      "\n",
      "\u001b[36mℹ\u001b[39m Use `spec()` to retrieve the full column specification for this data.\n",
      "\u001b[36mℹ\u001b[39m Specify the column types or set `show_col_types = FALSE` to quiet this message.\n"
     ]
    },
    {
     "data": {
      "text/html": [
       "<table class=\"dataframe\">\n",
       "<caption>A spec_tbl_df: 196 × 7</caption>\n",
       "<thead>\n",
       "\t<tr><th scope=col>experience</th><th scope=col>subscribe</th><th scope=col>hashedEmail</th><th scope=col>played_hours</th><th scope=col>name</th><th scope=col>gender</th><th scope=col>Age</th></tr>\n",
       "\t<tr><th scope=col>&lt;chr&gt;</th><th scope=col>&lt;lgl&gt;</th><th scope=col>&lt;chr&gt;</th><th scope=col>&lt;dbl&gt;</th><th scope=col>&lt;chr&gt;</th><th scope=col>&lt;chr&gt;</th><th scope=col>&lt;dbl&gt;</th></tr>\n",
       "</thead>\n",
       "<tbody>\n",
       "\t<tr><td>Pro     </td><td> TRUE</td><td>f6daba428a5e19a3d47574858c13550499be23603422e6a0ee9728f8b53e192d</td><td>30.3</td><td>Morgan   </td><td>Male      </td><td> 9</td></tr>\n",
       "\t<tr><td>Veteran </td><td> TRUE</td><td>f3c813577c458ba0dfef80996f8f32c93b6e8af1fa939732842f2312358a88e9</td><td> 3.8</td><td>Christian</td><td>Male      </td><td>17</td></tr>\n",
       "\t<tr><td>Veteran </td><td>FALSE</td><td>b674dd7ee0d24096d1c019615ce4d12b20fcbff12d79d3c5a9d2118eb7ccbb28</td><td> 0.0</td><td>Blake    </td><td>Male      </td><td>17</td></tr>\n",
       "\t<tr><td>Amateur </td><td> TRUE</td><td>23fe711e0e3b77f1da7aa221ab1192afe21648d47d2b4fa7a5a659ff443a0eb5</td><td> 0.7</td><td>Flora    </td><td>Female    </td><td>21</td></tr>\n",
       "\t<tr><td>Regular </td><td> TRUE</td><td>7dc01f10bf20671ecfccdac23812b1b415acd42c2147cb0af4d48fcce2420f3e</td><td> 0.1</td><td>Kylie    </td><td>Male      </td><td>21</td></tr>\n",
       "\t<tr><td>Amateur </td><td> TRUE</td><td>f58aad5996a435f16b0284a3b267f973f9af99e7a89bee0430055a44fa92f977</td><td> 0.0</td><td>Adrian   </td><td>Female    </td><td>17</td></tr>\n",
       "\t<tr><td>Regular </td><td> TRUE</td><td>8e594b8953193b26f498db95a508b03c6fe1c24bb5251d392c18a0da9a722807</td><td> 0.0</td><td>Luna     </td><td>Female    </td><td>19</td></tr>\n",
       "\t<tr><td>Amateur </td><td>FALSE</td><td>1d2371d8a35c8831034b25bda8764539ab7db0f63938696917c447128a2540dd</td><td> 0.0</td><td>Emerson  </td><td>Male      </td><td>21</td></tr>\n",
       "\t<tr><td>Amateur </td><td> TRUE</td><td>8b71f4d66a38389b7528bb38ba6eb71157733df7d1740371852a797ae97d82d1</td><td> 0.1</td><td>Natalie  </td><td>Male      </td><td>17</td></tr>\n",
       "\t<tr><td>Veteran </td><td> TRUE</td><td>bbe2d83de678f519c4b3daa7265e683b4fe2d814077f9094afd11d8f217039ec</td><td> 0.0</td><td>Nyla     </td><td>Female    </td><td>22</td></tr>\n",
       "\t<tr><td>Veteran </td><td> TRUE</td><td>7a4686586d290c67179275c7c3dfb4ea02f4d317d9ee0e2cee98baa27877a875</td><td> 1.6</td><td>Lane     </td><td>Female    </td><td>23</td></tr>\n",
       "\t<tr><td>Pro     </td><td> TRUE</td><td>4caa42e1b20511552434978171dcf7283fb6eb857eb871327e39bfc328002309</td><td> 0.0</td><td>Daniela  </td><td>Male      </td><td>17</td></tr>\n",
       "\t<tr><td>Beginner</td><td> TRUE</td><td>4bed6f49b672974f706aa7f020b4f29020326bf594520593557cd381a51559b8</td><td> 1.5</td><td>Sarah    </td><td>Female    </td><td>25</td></tr>\n",
       "\t<tr><td>Amateur </td><td> TRUE</td><td>3caa832978e0596779f4ee7c686c4592fb6de893925025d25bf26be9a8cd03f5</td><td> 0.2</td><td>Thatcher </td><td>Male      </td><td>22</td></tr>\n",
       "\t<tr><td>Veteran </td><td> TRUE</td><td>6f9acf8ea9956fe817895c78d10e1e25c11aba335a451e5b0322b073ee5008c4</td><td> 0.0</td><td>Niamh    </td><td>Non-binary</td><td>17</td></tr>\n",
       "\t<tr><td>Amateur </td><td>FALSE</td><td>2313a06afe47eacc28ff55adf6f072e7d12b0d12d7cbae29656f9029ec72bb53</td><td> 0.0</td><td>Quinlan  </td><td>Male      </td><td>22</td></tr>\n",
       "\t<tr><td>Beginner</td><td> TRUE</td><td>9db37a1d381697f6c83e3b97b276e38bb9d9c811ba4596edb75d4dbfea6415b0</td><td> 0.0</td><td>Elodie   </td><td>Female    </td><td>17</td></tr>\n",
       "\t<tr><td>Amateur </td><td> TRUE</td><td>a175d4741dc84e6baf77901f6e8e0a06f54809a34e6b5211159bced346f7fb3e</td><td>48.4</td><td>Xander   </td><td>Female    </td><td>17</td></tr>\n",
       "\t<tr><td>Amateur </td><td> TRUE</td><td>ab1f44f93c3b828f55458971db393052d9711df3e0e7ff69540bfebfcec555ff</td><td> 0.5</td><td>Marley   </td><td>Male      </td><td>17</td></tr>\n",
       "\t<tr><td>Regular </td><td> TRUE</td><td>20ae3f8b5323674fe6e537bc91928841cfc2a00c1b36522fd25370bb6fa89d36</td><td> 0.6</td><td>Ryker    </td><td>Male      </td><td>19</td></tr>\n",
       "\t<tr><td>Regular </td><td> TRUE</td><td>bc704ff2bc676dbf48ee41b9e11481c1387bf758ad318f2428f336e3fecc6660</td><td> 0.3</td><td>Andy     </td><td>Male      </td><td> 8</td></tr>\n",
       "\t<tr><td>Amateur </td><td>FALSE</td><td>200db0417ee70863c7e2a0f214c737476fb86de5869d0b907a077d726357e687</td><td> 0.1</td><td>Anastasia</td><td>Female    </td><td>17</td></tr>\n",
       "\t<tr><td>Beginner</td><td> TRUE</td><td>f9ac013b2f0bc2bd4928a6a0fc8a0aae8b5c4f2670cf9e18f547b7e72034c965</td><td> 1.0</td><td>Leah     </td><td>Male      </td><td>17</td></tr>\n",
       "\t<tr><td>Beginner</td><td> TRUE</td><td>89c8e07d6a2aa102d9cd05086d51b2e41195c9c807dd976a06f4262ff36d0cca</td><td> 0.0</td><td>Ren      </td><td>Male      </td><td>17</td></tr>\n",
       "\t<tr><td>Amateur </td><td> TRUE</td><td>119f01b9877fc5ea0073d05602a353b91c4b48e4cf02f42bb8d661b46a34b760</td><td> 0.7</td><td>Hugo     </td><td>Female    </td><td>21</td></tr>\n",
       "\t<tr><td>Regular </td><td> TRUE</td><td>5baba1651a0b92788bc0d6dcdf00be64af1cf9f0015bbeed204ddabd1d872e83</td><td> 0.6</td><td>Kendall  </td><td>Female    </td><td>28</td></tr>\n",
       "\t<tr><td>Regular </td><td> TRUE</td><td>50cec73a632e4be7b155c3df5165de28b2c5baf092abcb7f509f5645776a56c2</td><td> 0.0</td><td>Iman     </td><td>Male      </td><td>17</td></tr>\n",
       "\t<tr><td>Veteran </td><td>FALSE</td><td>f8acd26a5e452b682b9f8b20108caef1ee2e745efe08e95806980bd2388a3fea</td><td> 0.0</td><td>Finn     </td><td>Male      </td><td>23</td></tr>\n",
       "\t<tr><td>Amateur </td><td> TRUE</td><td>4b01bce3f141289709e8278b02ba5d2aaa7105d7ccb9c7deb37670a80e332774</td><td> 1.8</td><td>Luca     </td><td>Male      </td><td>23</td></tr>\n",
       "\t<tr><td>Veteran </td><td>FALSE</td><td>951e54f7376e2b2f0915e9e3646c701af4a2fe839385b13f9e0084b08f8070bd</td><td> 0.1</td><td>Vivienne </td><td>Male      </td><td>18</td></tr>\n",
       "\t<tr><td>⋮</td><td>⋮</td><td>⋮</td><td>⋮</td><td>⋮</td><td>⋮</td><td>⋮</td></tr>\n",
       "\t<tr><td>Amateur </td><td>FALSE</td><td>7096b30972a32029244fc6171f21bc5996b51b8d75df7a94f003dead428988f9</td><td> 1.0</td><td>Radwan   </td><td>Male             </td><td>26</td></tr>\n",
       "\t<tr><td>Beginner</td><td>FALSE</td><td>42eafe96ed5c1684e3b5cc614d1b01a117173d3ec6898abcf1177d9822bd39f7</td><td> 0.3</td><td>Ariana   </td><td>Female           </td><td>17</td></tr>\n",
       "\t<tr><td>Veteran </td><td> TRUE</td><td>9ba67e127e4e70d909f6237644bb4674b17bc6ae5c9e735f88cfc50e22b499c6</td><td> 0.1</td><td>Quinton  </td><td>Male             </td><td>17</td></tr>\n",
       "\t<tr><td>Veteran </td><td>FALSE</td><td>4bfad3613c71ace05644bf210195d9fb0d3d9513753ad2f8a16d1a80699bb906</td><td> 0.1</td><td>Rocco    </td><td>Male             </td><td>17</td></tr>\n",
       "\t<tr><td>Pro     </td><td>FALSE</td><td>060aca80f8cfbf1c91553a72f4d5ec8034764b05ab59fe8e1cf0eee9a7b67967</td><td> 0.4</td><td>Lyra     </td><td>Male             </td><td>21</td></tr>\n",
       "\t<tr><td>Beginner</td><td>FALSE</td><td>80afc8e7137de6a232421e926c1e6e64ddeef1d8157c4439746bc00fcf91e8a7</td><td> 1.8</td><td>Amelia   </td><td>Male             </td><td>32</td></tr>\n",
       "\t<tr><td>Veteran </td><td> TRUE</td><td>af6b2350478c6bd6af97c91c7eed1d121b82676d1d519ef5b6cfa16dd451fe27</td><td> 0.0</td><td>Saif     </td><td>Agender          </td><td>20</td></tr>\n",
       "\t<tr><td>Regular </td><td>FALSE</td><td>7b17513f11968feaf6b02977885c436dc2a4549489ca25ef03022f9fbae19d81</td><td> 0.0</td><td>Balthazar</td><td>Male             </td><td>50</td></tr>\n",
       "\t<tr><td>Veteran </td><td> TRUE</td><td>171d3c323c6430ffe0722c931f4cced5c48935f6804e0ff250964e4c41da55b1</td><td> 0.0</td><td>Parker   </td><td>Male             </td><td>17</td></tr>\n",
       "\t<tr><td>Amateur </td><td> TRUE</td><td>55d24216db39c27e1f17cc43d3127cbf8ed76ada6d098202b53ded319855e2c1</td><td> 0.3</td><td>Joaquim  </td><td>Male             </td><td>17</td></tr>\n",
       "\t<tr><td>Pro     </td><td>FALSE</td><td>e1e5b1d36ab7680b6927fd3cb619c2b5373167750f90f7a21bf67b5d9b0fd73f</td><td> 0.0</td><td>Jesse    </td><td>Non-binary       </td><td>17</td></tr>\n",
       "\t<tr><td>Veteran </td><td>FALSE</td><td>a1e0438d568b9c05a93cadaf99969e4d44794d19dea31edd723cbc916f878c33</td><td> 2.7</td><td>Jamie    </td><td>Non-binary       </td><td>21</td></tr>\n",
       "\t<tr><td>Amateur </td><td> TRUE</td><td>9955ab948064150d3686ef564389bdc6d6c60bc620a5ce3084b3dec4a7a006a7</td><td> 0.4</td><td>Charlie  </td><td>Two-Spirited     </td><td>17</td></tr>\n",
       "\t<tr><td>Veteran </td><td> TRUE</td><td>6b1cdc07fcc1f7ea09509341fd245dd34fdba386f14a493e9107c18604baedc9</td><td> 0.1</td><td>Finnian  </td><td>Non-binary       </td><td>17</td></tr>\n",
       "\t<tr><td>Amateur </td><td>FALSE</td><td>93efabc9f7de58f44c457bac715cf8f9f44cd88cc574fc02624cac194d2f0ea5</td><td> 2.1</td><td>Sebastián</td><td>Male             </td><td>24</td></tr>\n",
       "\t<tr><td>Amateur </td><td> TRUE</td><td>42382bb2af563e6979c5b84d288cbb49bb2ef90b1bcf196c2902da4ce20eb7f3</td><td> 0.8</td><td>Hunter   </td><td>Female           </td><td>22</td></tr>\n",
       "\t<tr><td>Pro     </td><td>FALSE</td><td>f7875ae87a61632030d5c4029ee8cf081be7047b2b4a9c04ab5a706f59786197</td><td> 0.2</td><td>Liam     </td><td>Male             </td><td>17</td></tr>\n",
       "\t<tr><td>Amateur </td><td> TRUE</td><td>24d4892c2c3ce11d3e54c3bf31ee218901cac7a2f564911d67424c8fdf0874fe</td><td>32.0</td><td>Sidney   </td><td>Male             </td><td>22</td></tr>\n",
       "\t<tr><td>Pro     </td><td>FALSE</td><td>d46bd29a2ed08e3500bd8729085ef4b6f0ca65baf4c756f88b6bedf7a18e0352</td><td> 1.7</td><td>Asher    </td><td>Male             </td><td>17</td></tr>\n",
       "\t<tr><td>Regular </td><td>FALSE</td><td>8e98b6db2053af0bc0e62cd55bcea5a08f23986dec3d02ca520ea039517e6744</td><td> 0.1</td><td>Sam      </td><td>Male             </td><td>18</td></tr>\n",
       "\t<tr><td>Veteran </td><td> TRUE</td><td>ba24bebe588a34ac546f8559850c65bc90cd9d51b821581bd6e25cff437a1081</td><td> 0.1</td><td>Gabriela </td><td>Female           </td><td>44</td></tr>\n",
       "\t<tr><td>Amateur </td><td> TRUE</td><td>e3f0ad9aadd27f3d1d9197e58546d045018daa767675033d9af9a2b74e763739</td><td> 0.0</td><td>Jasper   </td><td>Male             </td><td>17</td></tr>\n",
       "\t<tr><td>Beginner</td><td> TRUE</td><td>8c9d043ebb3689e679a37bfed30ea96272bcd14689ed2d9fcd68a4ae0c1663bc</td><td> 0.0</td><td>Lina     </td><td>Female           </td><td>17</td></tr>\n",
       "\t<tr><td>Amateur </td><td>FALSE</td><td>514ebbaa30f0d162127e065ab780892b7930cf8d75944d5eb09c91c02d6026c7</td><td> 0.0</td><td>Orion    </td><td>Male             </td><td>17</td></tr>\n",
       "\t<tr><td>Amateur </td><td> TRUE</td><td>644fe4200c19a73768b3fa598afcbd0948f7557925b7f17166285da23af31cc6</td><td> 0.0</td><td>Rhys     </td><td>Male             </td><td>20</td></tr>\n",
       "\t<tr><td>Amateur </td><td> TRUE</td><td>b6e9e593b9ec51c5e335457341c324c34a2239531e1890b93ca52ac1dc76b08f</td><td> 0.0</td><td>Bailey   </td><td>Female           </td><td>17</td></tr>\n",
       "\t<tr><td>Veteran </td><td>FALSE</td><td>71453e425f07d10da4fa2b349c83e73ccdf0fb3312f778b35c5802c3292c87bd</td><td> 0.3</td><td>Pascal   </td><td>Male             </td><td>22</td></tr>\n",
       "\t<tr><td>Amateur </td><td>FALSE</td><td>d572f391d452b76ea2d7e5e53a3d38bfd7499c7399db299bd4fedb06a46ad5bb</td><td> 0.0</td><td>Dylan    </td><td>Prefer not to say</td><td>17</td></tr>\n",
       "\t<tr><td>Amateur </td><td>FALSE</td><td>f19e136ddde68f365afc860c725ccff54307dedd13968e896a9f890c40aea436</td><td> 2.3</td><td>Harlow   </td><td>Male             </td><td>17</td></tr>\n",
       "\t<tr><td>Pro     </td><td> TRUE</td><td>d9473710057f7d42f36570f0be83817a4eea614029ff90cf50d8889cdd729d11</td><td> 0.2</td><td>Ahmed    </td><td>Other            </td><td>NA</td></tr>\n",
       "</tbody>\n",
       "</table>\n"
      ],
      "text/latex": [
       "A spec\\_tbl\\_df: 196 × 7\n",
       "\\begin{tabular}{lllllll}\n",
       " experience & subscribe & hashedEmail & played\\_hours & name & gender & Age\\\\\n",
       " <chr> & <lgl> & <chr> & <dbl> & <chr> & <chr> & <dbl>\\\\\n",
       "\\hline\n",
       "\t Pro      &  TRUE & f6daba428a5e19a3d47574858c13550499be23603422e6a0ee9728f8b53e192d & 30.3 & Morgan    & Male       &  9\\\\\n",
       "\t Veteran  &  TRUE & f3c813577c458ba0dfef80996f8f32c93b6e8af1fa939732842f2312358a88e9 &  3.8 & Christian & Male       & 17\\\\\n",
       "\t Veteran  & FALSE & b674dd7ee0d24096d1c019615ce4d12b20fcbff12d79d3c5a9d2118eb7ccbb28 &  0.0 & Blake     & Male       & 17\\\\\n",
       "\t Amateur  &  TRUE & 23fe711e0e3b77f1da7aa221ab1192afe21648d47d2b4fa7a5a659ff443a0eb5 &  0.7 & Flora     & Female     & 21\\\\\n",
       "\t Regular  &  TRUE & 7dc01f10bf20671ecfccdac23812b1b415acd42c2147cb0af4d48fcce2420f3e &  0.1 & Kylie     & Male       & 21\\\\\n",
       "\t Amateur  &  TRUE & f58aad5996a435f16b0284a3b267f973f9af99e7a89bee0430055a44fa92f977 &  0.0 & Adrian    & Female     & 17\\\\\n",
       "\t Regular  &  TRUE & 8e594b8953193b26f498db95a508b03c6fe1c24bb5251d392c18a0da9a722807 &  0.0 & Luna      & Female     & 19\\\\\n",
       "\t Amateur  & FALSE & 1d2371d8a35c8831034b25bda8764539ab7db0f63938696917c447128a2540dd &  0.0 & Emerson   & Male       & 21\\\\\n",
       "\t Amateur  &  TRUE & 8b71f4d66a38389b7528bb38ba6eb71157733df7d1740371852a797ae97d82d1 &  0.1 & Natalie   & Male       & 17\\\\\n",
       "\t Veteran  &  TRUE & bbe2d83de678f519c4b3daa7265e683b4fe2d814077f9094afd11d8f217039ec &  0.0 & Nyla      & Female     & 22\\\\\n",
       "\t Veteran  &  TRUE & 7a4686586d290c67179275c7c3dfb4ea02f4d317d9ee0e2cee98baa27877a875 &  1.6 & Lane      & Female     & 23\\\\\n",
       "\t Pro      &  TRUE & 4caa42e1b20511552434978171dcf7283fb6eb857eb871327e39bfc328002309 &  0.0 & Daniela   & Male       & 17\\\\\n",
       "\t Beginner &  TRUE & 4bed6f49b672974f706aa7f020b4f29020326bf594520593557cd381a51559b8 &  1.5 & Sarah     & Female     & 25\\\\\n",
       "\t Amateur  &  TRUE & 3caa832978e0596779f4ee7c686c4592fb6de893925025d25bf26be9a8cd03f5 &  0.2 & Thatcher  & Male       & 22\\\\\n",
       "\t Veteran  &  TRUE & 6f9acf8ea9956fe817895c78d10e1e25c11aba335a451e5b0322b073ee5008c4 &  0.0 & Niamh     & Non-binary & 17\\\\\n",
       "\t Amateur  & FALSE & 2313a06afe47eacc28ff55adf6f072e7d12b0d12d7cbae29656f9029ec72bb53 &  0.0 & Quinlan   & Male       & 22\\\\\n",
       "\t Beginner &  TRUE & 9db37a1d381697f6c83e3b97b276e38bb9d9c811ba4596edb75d4dbfea6415b0 &  0.0 & Elodie    & Female     & 17\\\\\n",
       "\t Amateur  &  TRUE & a175d4741dc84e6baf77901f6e8e0a06f54809a34e6b5211159bced346f7fb3e & 48.4 & Xander    & Female     & 17\\\\\n",
       "\t Amateur  &  TRUE & ab1f44f93c3b828f55458971db393052d9711df3e0e7ff69540bfebfcec555ff &  0.5 & Marley    & Male       & 17\\\\\n",
       "\t Regular  &  TRUE & 20ae3f8b5323674fe6e537bc91928841cfc2a00c1b36522fd25370bb6fa89d36 &  0.6 & Ryker     & Male       & 19\\\\\n",
       "\t Regular  &  TRUE & bc704ff2bc676dbf48ee41b9e11481c1387bf758ad318f2428f336e3fecc6660 &  0.3 & Andy      & Male       &  8\\\\\n",
       "\t Amateur  & FALSE & 200db0417ee70863c7e2a0f214c737476fb86de5869d0b907a077d726357e687 &  0.1 & Anastasia & Female     & 17\\\\\n",
       "\t Beginner &  TRUE & f9ac013b2f0bc2bd4928a6a0fc8a0aae8b5c4f2670cf9e18f547b7e72034c965 &  1.0 & Leah      & Male       & 17\\\\\n",
       "\t Beginner &  TRUE & 89c8e07d6a2aa102d9cd05086d51b2e41195c9c807dd976a06f4262ff36d0cca &  0.0 & Ren       & Male       & 17\\\\\n",
       "\t Amateur  &  TRUE & 119f01b9877fc5ea0073d05602a353b91c4b48e4cf02f42bb8d661b46a34b760 &  0.7 & Hugo      & Female     & 21\\\\\n",
       "\t Regular  &  TRUE & 5baba1651a0b92788bc0d6dcdf00be64af1cf9f0015bbeed204ddabd1d872e83 &  0.6 & Kendall   & Female     & 28\\\\\n",
       "\t Regular  &  TRUE & 50cec73a632e4be7b155c3df5165de28b2c5baf092abcb7f509f5645776a56c2 &  0.0 & Iman      & Male       & 17\\\\\n",
       "\t Veteran  & FALSE & f8acd26a5e452b682b9f8b20108caef1ee2e745efe08e95806980bd2388a3fea &  0.0 & Finn      & Male       & 23\\\\\n",
       "\t Amateur  &  TRUE & 4b01bce3f141289709e8278b02ba5d2aaa7105d7ccb9c7deb37670a80e332774 &  1.8 & Luca      & Male       & 23\\\\\n",
       "\t Veteran  & FALSE & 951e54f7376e2b2f0915e9e3646c701af4a2fe839385b13f9e0084b08f8070bd &  0.1 & Vivienne  & Male       & 18\\\\\n",
       "\t ⋮ & ⋮ & ⋮ & ⋮ & ⋮ & ⋮ & ⋮\\\\\n",
       "\t Amateur  & FALSE & 7096b30972a32029244fc6171f21bc5996b51b8d75df7a94f003dead428988f9 &  1.0 & Radwan    & Male              & 26\\\\\n",
       "\t Beginner & FALSE & 42eafe96ed5c1684e3b5cc614d1b01a117173d3ec6898abcf1177d9822bd39f7 &  0.3 & Ariana    & Female            & 17\\\\\n",
       "\t Veteran  &  TRUE & 9ba67e127e4e70d909f6237644bb4674b17bc6ae5c9e735f88cfc50e22b499c6 &  0.1 & Quinton   & Male              & 17\\\\\n",
       "\t Veteran  & FALSE & 4bfad3613c71ace05644bf210195d9fb0d3d9513753ad2f8a16d1a80699bb906 &  0.1 & Rocco     & Male              & 17\\\\\n",
       "\t Pro      & FALSE & 060aca80f8cfbf1c91553a72f4d5ec8034764b05ab59fe8e1cf0eee9a7b67967 &  0.4 & Lyra      & Male              & 21\\\\\n",
       "\t Beginner & FALSE & 80afc8e7137de6a232421e926c1e6e64ddeef1d8157c4439746bc00fcf91e8a7 &  1.8 & Amelia    & Male              & 32\\\\\n",
       "\t Veteran  &  TRUE & af6b2350478c6bd6af97c91c7eed1d121b82676d1d519ef5b6cfa16dd451fe27 &  0.0 & Saif      & Agender           & 20\\\\\n",
       "\t Regular  & FALSE & 7b17513f11968feaf6b02977885c436dc2a4549489ca25ef03022f9fbae19d81 &  0.0 & Balthazar & Male              & 50\\\\\n",
       "\t Veteran  &  TRUE & 171d3c323c6430ffe0722c931f4cced5c48935f6804e0ff250964e4c41da55b1 &  0.0 & Parker    & Male              & 17\\\\\n",
       "\t Amateur  &  TRUE & 55d24216db39c27e1f17cc43d3127cbf8ed76ada6d098202b53ded319855e2c1 &  0.3 & Joaquim   & Male              & 17\\\\\n",
       "\t Pro      & FALSE & e1e5b1d36ab7680b6927fd3cb619c2b5373167750f90f7a21bf67b5d9b0fd73f &  0.0 & Jesse     & Non-binary        & 17\\\\\n",
       "\t Veteran  & FALSE & a1e0438d568b9c05a93cadaf99969e4d44794d19dea31edd723cbc916f878c33 &  2.7 & Jamie     & Non-binary        & 21\\\\\n",
       "\t Amateur  &  TRUE & 9955ab948064150d3686ef564389bdc6d6c60bc620a5ce3084b3dec4a7a006a7 &  0.4 & Charlie   & Two-Spirited      & 17\\\\\n",
       "\t Veteran  &  TRUE & 6b1cdc07fcc1f7ea09509341fd245dd34fdba386f14a493e9107c18604baedc9 &  0.1 & Finnian   & Non-binary        & 17\\\\\n",
       "\t Amateur  & FALSE & 93efabc9f7de58f44c457bac715cf8f9f44cd88cc574fc02624cac194d2f0ea5 &  2.1 & Sebastián & Male              & 24\\\\\n",
       "\t Amateur  &  TRUE & 42382bb2af563e6979c5b84d288cbb49bb2ef90b1bcf196c2902da4ce20eb7f3 &  0.8 & Hunter    & Female            & 22\\\\\n",
       "\t Pro      & FALSE & f7875ae87a61632030d5c4029ee8cf081be7047b2b4a9c04ab5a706f59786197 &  0.2 & Liam      & Male              & 17\\\\\n",
       "\t Amateur  &  TRUE & 24d4892c2c3ce11d3e54c3bf31ee218901cac7a2f564911d67424c8fdf0874fe & 32.0 & Sidney    & Male              & 22\\\\\n",
       "\t Pro      & FALSE & d46bd29a2ed08e3500bd8729085ef4b6f0ca65baf4c756f88b6bedf7a18e0352 &  1.7 & Asher     & Male              & 17\\\\\n",
       "\t Regular  & FALSE & 8e98b6db2053af0bc0e62cd55bcea5a08f23986dec3d02ca520ea039517e6744 &  0.1 & Sam       & Male              & 18\\\\\n",
       "\t Veteran  &  TRUE & ba24bebe588a34ac546f8559850c65bc90cd9d51b821581bd6e25cff437a1081 &  0.1 & Gabriela  & Female            & 44\\\\\n",
       "\t Amateur  &  TRUE & e3f0ad9aadd27f3d1d9197e58546d045018daa767675033d9af9a2b74e763739 &  0.0 & Jasper    & Male              & 17\\\\\n",
       "\t Beginner &  TRUE & 8c9d043ebb3689e679a37bfed30ea96272bcd14689ed2d9fcd68a4ae0c1663bc &  0.0 & Lina      & Female            & 17\\\\\n",
       "\t Amateur  & FALSE & 514ebbaa30f0d162127e065ab780892b7930cf8d75944d5eb09c91c02d6026c7 &  0.0 & Orion     & Male              & 17\\\\\n",
       "\t Amateur  &  TRUE & 644fe4200c19a73768b3fa598afcbd0948f7557925b7f17166285da23af31cc6 &  0.0 & Rhys      & Male              & 20\\\\\n",
       "\t Amateur  &  TRUE & b6e9e593b9ec51c5e335457341c324c34a2239531e1890b93ca52ac1dc76b08f &  0.0 & Bailey    & Female            & 17\\\\\n",
       "\t Veteran  & FALSE & 71453e425f07d10da4fa2b349c83e73ccdf0fb3312f778b35c5802c3292c87bd &  0.3 & Pascal    & Male              & 22\\\\\n",
       "\t Amateur  & FALSE & d572f391d452b76ea2d7e5e53a3d38bfd7499c7399db299bd4fedb06a46ad5bb &  0.0 & Dylan     & Prefer not to say & 17\\\\\n",
       "\t Amateur  & FALSE & f19e136ddde68f365afc860c725ccff54307dedd13968e896a9f890c40aea436 &  2.3 & Harlow    & Male              & 17\\\\\n",
       "\t Pro      &  TRUE & d9473710057f7d42f36570f0be83817a4eea614029ff90cf50d8889cdd729d11 &  0.2 & Ahmed     & Other             & NA\\\\\n",
       "\\end{tabular}\n"
      ],
      "text/markdown": [
       "\n",
       "A spec_tbl_df: 196 × 7\n",
       "\n",
       "| experience &lt;chr&gt; | subscribe &lt;lgl&gt; | hashedEmail &lt;chr&gt; | played_hours &lt;dbl&gt; | name &lt;chr&gt; | gender &lt;chr&gt; | Age &lt;dbl&gt; |\n",
       "|---|---|---|---|---|---|---|\n",
       "| Pro      |  TRUE | f6daba428a5e19a3d47574858c13550499be23603422e6a0ee9728f8b53e192d | 30.3 | Morgan    | Male       |  9 |\n",
       "| Veteran  |  TRUE | f3c813577c458ba0dfef80996f8f32c93b6e8af1fa939732842f2312358a88e9 |  3.8 | Christian | Male       | 17 |\n",
       "| Veteran  | FALSE | b674dd7ee0d24096d1c019615ce4d12b20fcbff12d79d3c5a9d2118eb7ccbb28 |  0.0 | Blake     | Male       | 17 |\n",
       "| Amateur  |  TRUE | 23fe711e0e3b77f1da7aa221ab1192afe21648d47d2b4fa7a5a659ff443a0eb5 |  0.7 | Flora     | Female     | 21 |\n",
       "| Regular  |  TRUE | 7dc01f10bf20671ecfccdac23812b1b415acd42c2147cb0af4d48fcce2420f3e |  0.1 | Kylie     | Male       | 21 |\n",
       "| Amateur  |  TRUE | f58aad5996a435f16b0284a3b267f973f9af99e7a89bee0430055a44fa92f977 |  0.0 | Adrian    | Female     | 17 |\n",
       "| Regular  |  TRUE | 8e594b8953193b26f498db95a508b03c6fe1c24bb5251d392c18a0da9a722807 |  0.0 | Luna      | Female     | 19 |\n",
       "| Amateur  | FALSE | 1d2371d8a35c8831034b25bda8764539ab7db0f63938696917c447128a2540dd |  0.0 | Emerson   | Male       | 21 |\n",
       "| Amateur  |  TRUE | 8b71f4d66a38389b7528bb38ba6eb71157733df7d1740371852a797ae97d82d1 |  0.1 | Natalie   | Male       | 17 |\n",
       "| Veteran  |  TRUE | bbe2d83de678f519c4b3daa7265e683b4fe2d814077f9094afd11d8f217039ec |  0.0 | Nyla      | Female     | 22 |\n",
       "| Veteran  |  TRUE | 7a4686586d290c67179275c7c3dfb4ea02f4d317d9ee0e2cee98baa27877a875 |  1.6 | Lane      | Female     | 23 |\n",
       "| Pro      |  TRUE | 4caa42e1b20511552434978171dcf7283fb6eb857eb871327e39bfc328002309 |  0.0 | Daniela   | Male       | 17 |\n",
       "| Beginner |  TRUE | 4bed6f49b672974f706aa7f020b4f29020326bf594520593557cd381a51559b8 |  1.5 | Sarah     | Female     | 25 |\n",
       "| Amateur  |  TRUE | 3caa832978e0596779f4ee7c686c4592fb6de893925025d25bf26be9a8cd03f5 |  0.2 | Thatcher  | Male       | 22 |\n",
       "| Veteran  |  TRUE | 6f9acf8ea9956fe817895c78d10e1e25c11aba335a451e5b0322b073ee5008c4 |  0.0 | Niamh     | Non-binary | 17 |\n",
       "| Amateur  | FALSE | 2313a06afe47eacc28ff55adf6f072e7d12b0d12d7cbae29656f9029ec72bb53 |  0.0 | Quinlan   | Male       | 22 |\n",
       "| Beginner |  TRUE | 9db37a1d381697f6c83e3b97b276e38bb9d9c811ba4596edb75d4dbfea6415b0 |  0.0 | Elodie    | Female     | 17 |\n",
       "| Amateur  |  TRUE | a175d4741dc84e6baf77901f6e8e0a06f54809a34e6b5211159bced346f7fb3e | 48.4 | Xander    | Female     | 17 |\n",
       "| Amateur  |  TRUE | ab1f44f93c3b828f55458971db393052d9711df3e0e7ff69540bfebfcec555ff |  0.5 | Marley    | Male       | 17 |\n",
       "| Regular  |  TRUE | 20ae3f8b5323674fe6e537bc91928841cfc2a00c1b36522fd25370bb6fa89d36 |  0.6 | Ryker     | Male       | 19 |\n",
       "| Regular  |  TRUE | bc704ff2bc676dbf48ee41b9e11481c1387bf758ad318f2428f336e3fecc6660 |  0.3 | Andy      | Male       |  8 |\n",
       "| Amateur  | FALSE | 200db0417ee70863c7e2a0f214c737476fb86de5869d0b907a077d726357e687 |  0.1 | Anastasia | Female     | 17 |\n",
       "| Beginner |  TRUE | f9ac013b2f0bc2bd4928a6a0fc8a0aae8b5c4f2670cf9e18f547b7e72034c965 |  1.0 | Leah      | Male       | 17 |\n",
       "| Beginner |  TRUE | 89c8e07d6a2aa102d9cd05086d51b2e41195c9c807dd976a06f4262ff36d0cca |  0.0 | Ren       | Male       | 17 |\n",
       "| Amateur  |  TRUE | 119f01b9877fc5ea0073d05602a353b91c4b48e4cf02f42bb8d661b46a34b760 |  0.7 | Hugo      | Female     | 21 |\n",
       "| Regular  |  TRUE | 5baba1651a0b92788bc0d6dcdf00be64af1cf9f0015bbeed204ddabd1d872e83 |  0.6 | Kendall   | Female     | 28 |\n",
       "| Regular  |  TRUE | 50cec73a632e4be7b155c3df5165de28b2c5baf092abcb7f509f5645776a56c2 |  0.0 | Iman      | Male       | 17 |\n",
       "| Veteran  | FALSE | f8acd26a5e452b682b9f8b20108caef1ee2e745efe08e95806980bd2388a3fea |  0.0 | Finn      | Male       | 23 |\n",
       "| Amateur  |  TRUE | 4b01bce3f141289709e8278b02ba5d2aaa7105d7ccb9c7deb37670a80e332774 |  1.8 | Luca      | Male       | 23 |\n",
       "| Veteran  | FALSE | 951e54f7376e2b2f0915e9e3646c701af4a2fe839385b13f9e0084b08f8070bd |  0.1 | Vivienne  | Male       | 18 |\n",
       "| ⋮ | ⋮ | ⋮ | ⋮ | ⋮ | ⋮ | ⋮ |\n",
       "| Amateur  | FALSE | 7096b30972a32029244fc6171f21bc5996b51b8d75df7a94f003dead428988f9 |  1.0 | Radwan    | Male              | 26 |\n",
       "| Beginner | FALSE | 42eafe96ed5c1684e3b5cc614d1b01a117173d3ec6898abcf1177d9822bd39f7 |  0.3 | Ariana    | Female            | 17 |\n",
       "| Veteran  |  TRUE | 9ba67e127e4e70d909f6237644bb4674b17bc6ae5c9e735f88cfc50e22b499c6 |  0.1 | Quinton   | Male              | 17 |\n",
       "| Veteran  | FALSE | 4bfad3613c71ace05644bf210195d9fb0d3d9513753ad2f8a16d1a80699bb906 |  0.1 | Rocco     | Male              | 17 |\n",
       "| Pro      | FALSE | 060aca80f8cfbf1c91553a72f4d5ec8034764b05ab59fe8e1cf0eee9a7b67967 |  0.4 | Lyra      | Male              | 21 |\n",
       "| Beginner | FALSE | 80afc8e7137de6a232421e926c1e6e64ddeef1d8157c4439746bc00fcf91e8a7 |  1.8 | Amelia    | Male              | 32 |\n",
       "| Veteran  |  TRUE | af6b2350478c6bd6af97c91c7eed1d121b82676d1d519ef5b6cfa16dd451fe27 |  0.0 | Saif      | Agender           | 20 |\n",
       "| Regular  | FALSE | 7b17513f11968feaf6b02977885c436dc2a4549489ca25ef03022f9fbae19d81 |  0.0 | Balthazar | Male              | 50 |\n",
       "| Veteran  |  TRUE | 171d3c323c6430ffe0722c931f4cced5c48935f6804e0ff250964e4c41da55b1 |  0.0 | Parker    | Male              | 17 |\n",
       "| Amateur  |  TRUE | 55d24216db39c27e1f17cc43d3127cbf8ed76ada6d098202b53ded319855e2c1 |  0.3 | Joaquim   | Male              | 17 |\n",
       "| Pro      | FALSE | e1e5b1d36ab7680b6927fd3cb619c2b5373167750f90f7a21bf67b5d9b0fd73f |  0.0 | Jesse     | Non-binary        | 17 |\n",
       "| Veteran  | FALSE | a1e0438d568b9c05a93cadaf99969e4d44794d19dea31edd723cbc916f878c33 |  2.7 | Jamie     | Non-binary        | 21 |\n",
       "| Amateur  |  TRUE | 9955ab948064150d3686ef564389bdc6d6c60bc620a5ce3084b3dec4a7a006a7 |  0.4 | Charlie   | Two-Spirited      | 17 |\n",
       "| Veteran  |  TRUE | 6b1cdc07fcc1f7ea09509341fd245dd34fdba386f14a493e9107c18604baedc9 |  0.1 | Finnian   | Non-binary        | 17 |\n",
       "| Amateur  | FALSE | 93efabc9f7de58f44c457bac715cf8f9f44cd88cc574fc02624cac194d2f0ea5 |  2.1 | Sebastián | Male              | 24 |\n",
       "| Amateur  |  TRUE | 42382bb2af563e6979c5b84d288cbb49bb2ef90b1bcf196c2902da4ce20eb7f3 |  0.8 | Hunter    | Female            | 22 |\n",
       "| Pro      | FALSE | f7875ae87a61632030d5c4029ee8cf081be7047b2b4a9c04ab5a706f59786197 |  0.2 | Liam      | Male              | 17 |\n",
       "| Amateur  |  TRUE | 24d4892c2c3ce11d3e54c3bf31ee218901cac7a2f564911d67424c8fdf0874fe | 32.0 | Sidney    | Male              | 22 |\n",
       "| Pro      | FALSE | d46bd29a2ed08e3500bd8729085ef4b6f0ca65baf4c756f88b6bedf7a18e0352 |  1.7 | Asher     | Male              | 17 |\n",
       "| Regular  | FALSE | 8e98b6db2053af0bc0e62cd55bcea5a08f23986dec3d02ca520ea039517e6744 |  0.1 | Sam       | Male              | 18 |\n",
       "| Veteran  |  TRUE | ba24bebe588a34ac546f8559850c65bc90cd9d51b821581bd6e25cff437a1081 |  0.1 | Gabriela  | Female            | 44 |\n",
       "| Amateur  |  TRUE | e3f0ad9aadd27f3d1d9197e58546d045018daa767675033d9af9a2b74e763739 |  0.0 | Jasper    | Male              | 17 |\n",
       "| Beginner |  TRUE | 8c9d043ebb3689e679a37bfed30ea96272bcd14689ed2d9fcd68a4ae0c1663bc |  0.0 | Lina      | Female            | 17 |\n",
       "| Amateur  | FALSE | 514ebbaa30f0d162127e065ab780892b7930cf8d75944d5eb09c91c02d6026c7 |  0.0 | Orion     | Male              | 17 |\n",
       "| Amateur  |  TRUE | 644fe4200c19a73768b3fa598afcbd0948f7557925b7f17166285da23af31cc6 |  0.0 | Rhys      | Male              | 20 |\n",
       "| Amateur  |  TRUE | b6e9e593b9ec51c5e335457341c324c34a2239531e1890b93ca52ac1dc76b08f |  0.0 | Bailey    | Female            | 17 |\n",
       "| Veteran  | FALSE | 71453e425f07d10da4fa2b349c83e73ccdf0fb3312f778b35c5802c3292c87bd |  0.3 | Pascal    | Male              | 22 |\n",
       "| Amateur  | FALSE | d572f391d452b76ea2d7e5e53a3d38bfd7499c7399db299bd4fedb06a46ad5bb |  0.0 | Dylan     | Prefer not to say | 17 |\n",
       "| Amateur  | FALSE | f19e136ddde68f365afc860c725ccff54307dedd13968e896a9f890c40aea436 |  2.3 | Harlow    | Male              | 17 |\n",
       "| Pro      |  TRUE | d9473710057f7d42f36570f0be83817a4eea614029ff90cf50d8889cdd729d11 |  0.2 | Ahmed     | Other             | NA |\n",
       "\n"
      ],
      "text/plain": [
       "    experience subscribe\n",
       "1   Pro         TRUE    \n",
       "2   Veteran     TRUE    \n",
       "3   Veteran    FALSE    \n",
       "4   Amateur     TRUE    \n",
       "5   Regular     TRUE    \n",
       "6   Amateur     TRUE    \n",
       "7   Regular     TRUE    \n",
       "8   Amateur    FALSE    \n",
       "9   Amateur     TRUE    \n",
       "10  Veteran     TRUE    \n",
       "11  Veteran     TRUE    \n",
       "12  Pro         TRUE    \n",
       "13  Beginner    TRUE    \n",
       "14  Amateur     TRUE    \n",
       "15  Veteran     TRUE    \n",
       "16  Amateur    FALSE    \n",
       "17  Beginner    TRUE    \n",
       "18  Amateur     TRUE    \n",
       "19  Amateur     TRUE    \n",
       "20  Regular     TRUE    \n",
       "21  Regular     TRUE    \n",
       "22  Amateur    FALSE    \n",
       "23  Beginner    TRUE    \n",
       "24  Beginner    TRUE    \n",
       "25  Amateur     TRUE    \n",
       "26  Regular     TRUE    \n",
       "27  Regular     TRUE    \n",
       "28  Veteran    FALSE    \n",
       "29  Amateur     TRUE    \n",
       "30  Veteran    FALSE    \n",
       "⋮   ⋮          ⋮        \n",
       "167 Amateur    FALSE    \n",
       "168 Beginner   FALSE    \n",
       "169 Veteran     TRUE    \n",
       "170 Veteran    FALSE    \n",
       "171 Pro        FALSE    \n",
       "172 Beginner   FALSE    \n",
       "173 Veteran     TRUE    \n",
       "174 Regular    FALSE    \n",
       "175 Veteran     TRUE    \n",
       "176 Amateur     TRUE    \n",
       "177 Pro        FALSE    \n",
       "178 Veteran    FALSE    \n",
       "179 Amateur     TRUE    \n",
       "180 Veteran     TRUE    \n",
       "181 Amateur    FALSE    \n",
       "182 Amateur     TRUE    \n",
       "183 Pro        FALSE    \n",
       "184 Amateur     TRUE    \n",
       "185 Pro        FALSE    \n",
       "186 Regular    FALSE    \n",
       "187 Veteran     TRUE    \n",
       "188 Amateur     TRUE    \n",
       "189 Beginner    TRUE    \n",
       "190 Amateur    FALSE    \n",
       "191 Amateur     TRUE    \n",
       "192 Amateur     TRUE    \n",
       "193 Veteran    FALSE    \n",
       "194 Amateur    FALSE    \n",
       "195 Amateur    FALSE    \n",
       "196 Pro         TRUE    \n",
       "    hashedEmail                                                     \n",
       "1   f6daba428a5e19a3d47574858c13550499be23603422e6a0ee9728f8b53e192d\n",
       "2   f3c813577c458ba0dfef80996f8f32c93b6e8af1fa939732842f2312358a88e9\n",
       "3   b674dd7ee0d24096d1c019615ce4d12b20fcbff12d79d3c5a9d2118eb7ccbb28\n",
       "4   23fe711e0e3b77f1da7aa221ab1192afe21648d47d2b4fa7a5a659ff443a0eb5\n",
       "5   7dc01f10bf20671ecfccdac23812b1b415acd42c2147cb0af4d48fcce2420f3e\n",
       "6   f58aad5996a435f16b0284a3b267f973f9af99e7a89bee0430055a44fa92f977\n",
       "7   8e594b8953193b26f498db95a508b03c6fe1c24bb5251d392c18a0da9a722807\n",
       "8   1d2371d8a35c8831034b25bda8764539ab7db0f63938696917c447128a2540dd\n",
       "9   8b71f4d66a38389b7528bb38ba6eb71157733df7d1740371852a797ae97d82d1\n",
       "10  bbe2d83de678f519c4b3daa7265e683b4fe2d814077f9094afd11d8f217039ec\n",
       "11  7a4686586d290c67179275c7c3dfb4ea02f4d317d9ee0e2cee98baa27877a875\n",
       "12  4caa42e1b20511552434978171dcf7283fb6eb857eb871327e39bfc328002309\n",
       "13  4bed6f49b672974f706aa7f020b4f29020326bf594520593557cd381a51559b8\n",
       "14  3caa832978e0596779f4ee7c686c4592fb6de893925025d25bf26be9a8cd03f5\n",
       "15  6f9acf8ea9956fe817895c78d10e1e25c11aba335a451e5b0322b073ee5008c4\n",
       "16  2313a06afe47eacc28ff55adf6f072e7d12b0d12d7cbae29656f9029ec72bb53\n",
       "17  9db37a1d381697f6c83e3b97b276e38bb9d9c811ba4596edb75d4dbfea6415b0\n",
       "18  a175d4741dc84e6baf77901f6e8e0a06f54809a34e6b5211159bced346f7fb3e\n",
       "19  ab1f44f93c3b828f55458971db393052d9711df3e0e7ff69540bfebfcec555ff\n",
       "20  20ae3f8b5323674fe6e537bc91928841cfc2a00c1b36522fd25370bb6fa89d36\n",
       "21  bc704ff2bc676dbf48ee41b9e11481c1387bf758ad318f2428f336e3fecc6660\n",
       "22  200db0417ee70863c7e2a0f214c737476fb86de5869d0b907a077d726357e687\n",
       "23  f9ac013b2f0bc2bd4928a6a0fc8a0aae8b5c4f2670cf9e18f547b7e72034c965\n",
       "24  89c8e07d6a2aa102d9cd05086d51b2e41195c9c807dd976a06f4262ff36d0cca\n",
       "25  119f01b9877fc5ea0073d05602a353b91c4b48e4cf02f42bb8d661b46a34b760\n",
       "26  5baba1651a0b92788bc0d6dcdf00be64af1cf9f0015bbeed204ddabd1d872e83\n",
       "27  50cec73a632e4be7b155c3df5165de28b2c5baf092abcb7f509f5645776a56c2\n",
       "28  f8acd26a5e452b682b9f8b20108caef1ee2e745efe08e95806980bd2388a3fea\n",
       "29  4b01bce3f141289709e8278b02ba5d2aaa7105d7ccb9c7deb37670a80e332774\n",
       "30  951e54f7376e2b2f0915e9e3646c701af4a2fe839385b13f9e0084b08f8070bd\n",
       "⋮   ⋮                                                               \n",
       "167 7096b30972a32029244fc6171f21bc5996b51b8d75df7a94f003dead428988f9\n",
       "168 42eafe96ed5c1684e3b5cc614d1b01a117173d3ec6898abcf1177d9822bd39f7\n",
       "169 9ba67e127e4e70d909f6237644bb4674b17bc6ae5c9e735f88cfc50e22b499c6\n",
       "170 4bfad3613c71ace05644bf210195d9fb0d3d9513753ad2f8a16d1a80699bb906\n",
       "171 060aca80f8cfbf1c91553a72f4d5ec8034764b05ab59fe8e1cf0eee9a7b67967\n",
       "172 80afc8e7137de6a232421e926c1e6e64ddeef1d8157c4439746bc00fcf91e8a7\n",
       "173 af6b2350478c6bd6af97c91c7eed1d121b82676d1d519ef5b6cfa16dd451fe27\n",
       "174 7b17513f11968feaf6b02977885c436dc2a4549489ca25ef03022f9fbae19d81\n",
       "175 171d3c323c6430ffe0722c931f4cced5c48935f6804e0ff250964e4c41da55b1\n",
       "176 55d24216db39c27e1f17cc43d3127cbf8ed76ada6d098202b53ded319855e2c1\n",
       "177 e1e5b1d36ab7680b6927fd3cb619c2b5373167750f90f7a21bf67b5d9b0fd73f\n",
       "178 a1e0438d568b9c05a93cadaf99969e4d44794d19dea31edd723cbc916f878c33\n",
       "179 9955ab948064150d3686ef564389bdc6d6c60bc620a5ce3084b3dec4a7a006a7\n",
       "180 6b1cdc07fcc1f7ea09509341fd245dd34fdba386f14a493e9107c18604baedc9\n",
       "181 93efabc9f7de58f44c457bac715cf8f9f44cd88cc574fc02624cac194d2f0ea5\n",
       "182 42382bb2af563e6979c5b84d288cbb49bb2ef90b1bcf196c2902da4ce20eb7f3\n",
       "183 f7875ae87a61632030d5c4029ee8cf081be7047b2b4a9c04ab5a706f59786197\n",
       "184 24d4892c2c3ce11d3e54c3bf31ee218901cac7a2f564911d67424c8fdf0874fe\n",
       "185 d46bd29a2ed08e3500bd8729085ef4b6f0ca65baf4c756f88b6bedf7a18e0352\n",
       "186 8e98b6db2053af0bc0e62cd55bcea5a08f23986dec3d02ca520ea039517e6744\n",
       "187 ba24bebe588a34ac546f8559850c65bc90cd9d51b821581bd6e25cff437a1081\n",
       "188 e3f0ad9aadd27f3d1d9197e58546d045018daa767675033d9af9a2b74e763739\n",
       "189 8c9d043ebb3689e679a37bfed30ea96272bcd14689ed2d9fcd68a4ae0c1663bc\n",
       "190 514ebbaa30f0d162127e065ab780892b7930cf8d75944d5eb09c91c02d6026c7\n",
       "191 644fe4200c19a73768b3fa598afcbd0948f7557925b7f17166285da23af31cc6\n",
       "192 b6e9e593b9ec51c5e335457341c324c34a2239531e1890b93ca52ac1dc76b08f\n",
       "193 71453e425f07d10da4fa2b349c83e73ccdf0fb3312f778b35c5802c3292c87bd\n",
       "194 d572f391d452b76ea2d7e5e53a3d38bfd7499c7399db299bd4fedb06a46ad5bb\n",
       "195 f19e136ddde68f365afc860c725ccff54307dedd13968e896a9f890c40aea436\n",
       "196 d9473710057f7d42f36570f0be83817a4eea614029ff90cf50d8889cdd729d11\n",
       "    played_hours name      gender            Age\n",
       "1   30.3         Morgan    Male               9 \n",
       "2    3.8         Christian Male              17 \n",
       "3    0.0         Blake     Male              17 \n",
       "4    0.7         Flora     Female            21 \n",
       "5    0.1         Kylie     Male              21 \n",
       "6    0.0         Adrian    Female            17 \n",
       "7    0.0         Luna      Female            19 \n",
       "8    0.0         Emerson   Male              21 \n",
       "9    0.1         Natalie   Male              17 \n",
       "10   0.0         Nyla      Female            22 \n",
       "11   1.6         Lane      Female            23 \n",
       "12   0.0         Daniela   Male              17 \n",
       "13   1.5         Sarah     Female            25 \n",
       "14   0.2         Thatcher  Male              22 \n",
       "15   0.0         Niamh     Non-binary        17 \n",
       "16   0.0         Quinlan   Male              22 \n",
       "17   0.0         Elodie    Female            17 \n",
       "18  48.4         Xander    Female            17 \n",
       "19   0.5         Marley    Male              17 \n",
       "20   0.6         Ryker     Male              19 \n",
       "21   0.3         Andy      Male               8 \n",
       "22   0.1         Anastasia Female            17 \n",
       "23   1.0         Leah      Male              17 \n",
       "24   0.0         Ren       Male              17 \n",
       "25   0.7         Hugo      Female            21 \n",
       "26   0.6         Kendall   Female            28 \n",
       "27   0.0         Iman      Male              17 \n",
       "28   0.0         Finn      Male              23 \n",
       "29   1.8         Luca      Male              23 \n",
       "30   0.1         Vivienne  Male              18 \n",
       "⋮   ⋮            ⋮         ⋮                 ⋮  \n",
       "167  1.0         Radwan    Male              26 \n",
       "168  0.3         Ariana    Female            17 \n",
       "169  0.1         Quinton   Male              17 \n",
       "170  0.1         Rocco     Male              17 \n",
       "171  0.4         Lyra      Male              21 \n",
       "172  1.8         Amelia    Male              32 \n",
       "173  0.0         Saif      Agender           20 \n",
       "174  0.0         Balthazar Male              50 \n",
       "175  0.0         Parker    Male              17 \n",
       "176  0.3         Joaquim   Male              17 \n",
       "177  0.0         Jesse     Non-binary        17 \n",
       "178  2.7         Jamie     Non-binary        21 \n",
       "179  0.4         Charlie   Two-Spirited      17 \n",
       "180  0.1         Finnian   Non-binary        17 \n",
       "181  2.1         Sebastián Male              24 \n",
       "182  0.8         Hunter    Female            22 \n",
       "183  0.2         Liam      Male              17 \n",
       "184 32.0         Sidney    Male              22 \n",
       "185  1.7         Asher     Male              17 \n",
       "186  0.1         Sam       Male              18 \n",
       "187  0.1         Gabriela  Female            44 \n",
       "188  0.0         Jasper    Male              17 \n",
       "189  0.0         Lina      Female            17 \n",
       "190  0.0         Orion     Male              17 \n",
       "191  0.0         Rhys      Male              20 \n",
       "192  0.0         Bailey    Female            17 \n",
       "193  0.3         Pascal    Male              22 \n",
       "194  0.0         Dylan     Prefer not to say 17 \n",
       "195  2.3         Harlow    Male              17 \n",
       "196  0.2         Ahmed     Other             NA "
      ]
     },
     "metadata": {},
     "output_type": "display_data"
    }
   ],
   "source": [
    "# loading libraries and data\n",
    "library(tidyverse)\n",
    "player_url <- \"https://raw.githubusercontent.com/Jaye136/project_data/refs/heads/main/players.csv\"\n",
    "players_raw <- read_csv(player_url)"
   ]
  },
  {
   "cell_type": "code",
   "execution_count": 10,
   "id": "2a12e7f9-6acd-45ba-a0ad-4c261140d9c7",
   "metadata": {},
   "outputs": [],
   "source": [
    "# cleaning & wrangling\n",
    "# <temp>\n",
    "# 1. Select columns used\n",
    "# 2. Remove NA values\n",
    "players_clean <- players_raw |>\n",
    "select(experience, played_hours, Age) |>\n",
    "filter(!is.na(experience), !is.na(played_hours), !is.na(Age))"
   ]
  },
  {
   "cell_type": "code",
   "execution_count": 11,
   "id": "1baaa272-04e0-442f-a57e-14c6c98684e6",
   "metadata": {},
   "outputs": [
    {
     "ename": "ERROR",
     "evalue": "Error in eval(expr, envir, enclos): object 'players_dbl' not found\n",
     "output_type": "error",
     "traceback": [
      "Error in eval(expr, envir, enclos): object 'players_dbl' not found\nTraceback:\n",
      "1. cut(players_dbl$played_hours, breaks = c(0, 1, 2, 5, 30, 100, \n .     Inf), right = FALSE, labels = c(\"minimal\", \"trial\", \"session\", \n .     \"casual\", \"moderate\", \"long_term\"))"
     ]
    }
   ],
   "source": [
    "# creating a relavent summary to perform exploratory analysis\n",
    "# <temp>\n",
    "# want to find is there a relationship between experience and age/noticeable trends/etc.\n",
    "# we are making played_hours into categories to visualise broad time ranges with the colour argument of ggplot\n",
    "# as average is ~6hrs, and max is 223hrs, we create narrower categories for [0, 10], and broader categories for 10+\n",
    "# minimal: 0-1 hrs\n",
    "# trial: 1-2 hrs\n",
    "# session: 2-5 hrs\n",
    "# casual: 5-30 hrs\n",
    "# moderate: 30-100 hrs\n",
    "# long_term: 100+ hrs\n",
    "\n",
    "# <temp>\n",
    "# convert experience to numerical values (so can visualise)\n",
    "# reason we dont do barplot: hard to see axis values for age (if stacked, hard to see exact, if count/identity, inaccurate)\n",
    "players_exploratory <- players_clean |>\n",
    "mutate(experience = fct_recode(as_factor(experience),\n",
    "                               \"5\" = \"Pro\",\n",
    "                               \"4\" = \"Veteran\",\n",
    "                               \"3\" = \"Regular\",\n",
    "                               \"2\" = \"Amateur\",\n",
    "                               \"1\" = \"Beginner\")) |>\n",
    "mutate(experience = as.numeric(experience))\n",
    "\n",
    "# <temp>\n",
    "# convert played_hours to factor datatype, so we can colour\n",
    "players_exploratory$played_range_hrs <- cut(players_dbl$played_hours, breaks = c(0, 1, 2, 5, 30, 100, Inf),\n",
    "                            right = FALSE,\n",
    "                           labels = c(\"minimal\", \"trial\", \"session\", \"casual\", \"moderate\", \"long_term\"))\n",
    "\n",
    "# select only needed\n",
    "players_exploratory <- players_exploratory |>\n",
    "select(experience, Age, played_range_hrs)"
   ]
  },
  {
   "cell_type": "code",
   "execution_count": 8,
   "id": "91517869-f7d9-43f0-aee4-a676dc7f9a1a",
   "metadata": {},
   "outputs": [
    {
     "name": "stderr",
     "output_type": "stream",
     "text": [
      "ERROR while rich displaying an object: \u001b[1m\u001b[33mError\u001b[39m in `geom_point()`:\u001b[22m\n",
      "\u001b[1m\u001b[22m\u001b[33m!\u001b[39m Problem while computing aesthetics.\n",
      "\u001b[36mℹ\u001b[39m Error occurred in the 1st layer.\n",
      "\u001b[1mCaused by error:\u001b[22m\n",
      "\u001b[33m!\u001b[39m object 'played_range_hrs' not found\n",
      "\n",
      "Traceback:\n",
      "1. tryCatch(withCallingHandlers({\n",
      " .     if (!mime %in% names(repr::mime2repr)) \n",
      " .         stop(\"No repr_* for mimetype \", mime, \" in repr::mime2repr\")\n",
      " .     rpr <- repr::mime2repr[[mime]](obj)\n",
      " .     if (is.null(rpr)) \n",
      " .         return(NULL)\n",
      " .     prepare_content(is.raw(rpr), rpr)\n",
      " . }, error = error_handler), error = outer_handler)\n",
      "2. tryCatchList(expr, classes, parentenv, handlers)\n",
      "3. tryCatchOne(expr, names, parentenv, handlers[[1L]])\n",
      "4. doTryCatch(return(expr), name, parentenv, handler)\n",
      "5. withCallingHandlers({\n",
      " .     if (!mime %in% names(repr::mime2repr)) \n",
      " .         stop(\"No repr_* for mimetype \", mime, \" in repr::mime2repr\")\n",
      " .     rpr <- repr::mime2repr[[mime]](obj)\n",
      " .     if (is.null(rpr)) \n",
      " .         return(NULL)\n",
      " .     prepare_content(is.raw(rpr), rpr)\n",
      " . }, error = error_handler)\n",
      "6. repr::mime2repr[[mime]](obj)\n",
      "7. repr_text.default(obj)\n",
      "8. paste(capture.output(print(obj)), collapse = \"\\n\")\n",
      "9. capture.output(print(obj))\n",
      "10. withVisible(...elt(i))\n",
      "11. print(obj)\n",
      "12. print.ggplot(obj)\n",
      "13. ggplot_build(x)\n",
      "14. ggplot_build.ggplot(x)\n",
      "15. by_layer(function(l, d) l$compute_aesthetics(d, plot), layers, \n",
      "  .     data, \"computing aesthetics\")\n",
      "16. try_fetch(for (i in seq_along(data)) {\n",
      "  .     out[[i]] <- f(l = layers[[i]], d = data[[i]])\n",
      "  . }, error = function(cnd) {\n",
      "  .     cli::cli_abort(c(\"Problem while {step}.\", i = \"Error occurred in the {ordinal(i)} layer.\"), \n",
      "  .         call = layers[[i]]$constructor, parent = cnd)\n",
      "  . })\n",
      "17. tryCatch(withCallingHandlers(expr, condition = function(cnd) {\n",
      "  .     {\n",
      "  .         .__handler_frame__. <- TRUE\n",
      "  .         .__setup_frame__. <- frame\n",
      "  .         if (inherits(cnd, \"message\")) {\n",
      "  .             except <- c(\"warning\", \"error\")\n",
      "  .         }\n",
      "  .         else if (inherits(cnd, \"warning\")) {\n",
      "  .             except <- \"error\"\n",
      "  .         }\n",
      "  .         else {\n",
      "  .             except <- \"\"\n",
      "  .         }\n",
      "  .     }\n",
      "  .     while (!is_null(cnd)) {\n",
      "  .         if (inherits(cnd, \"error\")) {\n",
      "  .             out <- handlers[[1L]](cnd)\n",
      "  .             if (!inherits(out, \"rlang_zap\")) \n",
      "  .                 throw(out)\n",
      "  .         }\n",
      "  .         inherit <- .subset2(.subset2(cnd, \"rlang\"), \"inherit\")\n",
      "  .         if (is_false(inherit)) {\n",
      "  .             return()\n",
      "  .         }\n",
      "  .         cnd <- .subset2(cnd, \"parent\")\n",
      "  .     }\n",
      "  . }), stackOverflowError = handlers[[1L]])\n",
      "18. tryCatchList(expr, classes, parentenv, handlers)\n",
      "19. tryCatchOne(expr, names, parentenv, handlers[[1L]])\n",
      "20. doTryCatch(return(expr), name, parentenv, handler)\n",
      "21. withCallingHandlers(expr, condition = function(cnd) {\n",
      "  .     {\n",
      "  .         .__handler_frame__. <- TRUE\n",
      "  .         .__setup_frame__. <- frame\n",
      "  .         if (inherits(cnd, \"message\")) {\n",
      "  .             except <- c(\"warning\", \"error\")\n",
      "  .         }\n",
      "  .         else if (inherits(cnd, \"warning\")) {\n",
      "  .             except <- \"error\"\n",
      "  .         }\n",
      "  .         else {\n",
      "  .             except <- \"\"\n",
      "  .         }\n",
      "  .     }\n",
      "  .     while (!is_null(cnd)) {\n",
      "  .         if (inherits(cnd, \"error\")) {\n",
      "  .             out <- handlers[[1L]](cnd)\n",
      "  .             if (!inherits(out, \"rlang_zap\")) \n",
      "  .                 throw(out)\n",
      "  .         }\n",
      "  .         inherit <- .subset2(.subset2(cnd, \"rlang\"), \"inherit\")\n",
      "  .         if (is_false(inherit)) {\n",
      "  .             return()\n",
      "  .         }\n",
      "  .         cnd <- .subset2(cnd, \"parent\")\n",
      "  .     }\n",
      "  . })\n",
      "22. f(l = layers[[i]], d = data[[i]])\n",
      "23. l$compute_aesthetics(d, plot)\n",
      "24. compute_aesthetics(..., self = self)\n",
      "25. lapply(aesthetics, eval_tidy, data = data, env = env)\n",
      "26. FUN(X[[i]], ...)\n",
      "27. .handleSimpleError(function (cnd) \n",
      "  . {\n",
      "  .     {\n",
      "  .         .__handler_frame__. <- TRUE\n",
      "  .         .__setup_frame__. <- frame\n",
      "  .         if (inherits(cnd, \"message\")) {\n",
      "  .             except <- c(\"warning\", \"error\")\n",
      "  .         }\n",
      "  .         else if (inherits(cnd, \"warning\")) {\n",
      "  .             except <- \"error\"\n",
      "  .         }\n",
      "  .         else {\n",
      "  .             except <- \"\"\n",
      "  .         }\n",
      "  .     }\n",
      "  .     while (!is_null(cnd)) {\n",
      "  .         if (inherits(cnd, \"error\")) {\n",
      "  .             out <- handlers[[1L]](cnd)\n",
      "  .             if (!inherits(out, \"rlang_zap\")) \n",
      "  .                 throw(out)\n",
      "  .         }\n",
      "  .         inherit <- .subset2(.subset2(cnd, \"rlang\"), \"inherit\")\n",
      "  .         if (is_false(inherit)) {\n",
      "  .             return()\n",
      "  .         }\n",
      "  .         cnd <- .subset2(cnd, \"parent\")\n",
      "  .     }\n",
      "  . }, \"object 'played_range_hrs' not found\", base::quote(NULL))\n",
      "28. h(simpleError(msg, call))\n",
      "29. handlers[[1L]](cnd)\n",
      "30. cli::cli_abort(c(\"Problem while {step}.\", i = \"Error occurred in the {ordinal(i)} layer.\"), \n",
      "  .     call = layers[[i]]$constructor, parent = cnd)\n",
      "31. rlang::abort(message, ..., call = call, use_cli_format = TRUE, \n",
      "  .     .frame = .frame)\n",
      "32. signal_abort(cnd, .file)\n"
     ]
    }
   ],
   "source": [
    "# visualising relevent parts of the data for exploratory analysis\n",
    "# <temp>\n",
    "# add labels, plot size options, other aesthetic options\n",
    "# only preliminary, can correct later\n",
    "options(repr.plot.height = 7, repr.plot.width = 10)\n",
    "players_exploratory_vis <- players_exploratory |>\n",
    "ggplot(aes(x = experience, y = Age, colour = played_range_hrs)) + geom_point(size = 2.5, alpha = 0.5) +\n",
    "scale_colour_brewer(palette = \"Set1\") + theme(text = element_text(size = 15), axis.title.x = element_text(vjust = -1), axis.title.y = element_text(vjust = 3), plot.title = element_text(vjust = 1)) +\n",
    "labs(x = \"Skill level of player \\n (1-Beginner, 2-Amateur, 3-Regular, 4-Veteran, 5-Pro)\",\n",
    "    y = \"<temp>\", title = \"Figure 1: <temp>\", colour = \"<temp>\")\n",
    "players_exploratory_vis"
   ]
  },
  {
   "cell_type": "code",
   "execution_count": 163,
   "id": "fc9a191e-ef51-4b6c-9e71-1c8780d1b925",
   "metadata": {},
   "outputs": [],
   "source": [
    "# perform data analysis\n",
    "# <temp>\n",
    "# if there was relation found in previous part, WHAT demographic provides most data\n",
    "# do with regression? use players_clean, NOT players_explore. predicting played_hours using age and subscribe\n",
    "# create tibble of test values (EG. 15 yr old, regular), get model to predict played hrs? make list of demographics and test which one gives the highest played hours -> kind of like summary\n",
    "# model learns from data, able to guess if given new observations, what demographic on average would give highest values"
   ]
  },
  {
   "cell_type": "code",
   "execution_count": null,
   "id": "6389ac89-9f4c-4366-920e-b988d56dc787",
   "metadata": {},
   "outputs": [],
   "source": [
    "# visualise the data analysis"
   ]
  },
  {
   "cell_type": "markdown",
   "id": "9bc5545f-5391-495c-9c01-915814793b62",
   "metadata": {},
   "source": [
    "### **Discussion**"
   ]
  },
  {
   "cell_type": "markdown",
   "id": "a8b08240-add5-4c0c-9df1-da04076c971a",
   "metadata": {},
   "source": [
    "<u>What we found</u>: **ADD**\n",
    "<br><u>What we expected?</u>: \n",
    "<br><u>Effects of findings</u>: \n",
    "<br><u>Future questions</u>: "
   ]
  },
  {
   "cell_type": "markdown",
   "id": "6acdd092-f6b6-4a3b-8694-b677797c792f",
   "metadata": {},
   "source": [
    "### **References**"
   ]
  },
  {
   "cell_type": "markdown",
   "id": "ef8ad619-daa4-4257-9bc8-7d51a6615b23",
   "metadata": {},
   "source": [
    "Pacific Labratory for Artificial Intelligence (PLAI). (2024). *PLAICRAFT Player Data*, [Dataset]. UBC Department of Statistics. https://canvas.ubc.ca/courses/153254/files/37600949?wrap=1\n",
    "\n",
    "Converting range of values to categories:\n",
    "<br>**PROPERLY CITE** https://www.statology.org/cut-function-in-r/"
   ]
  },
  {
   "cell_type": "markdown",
   "id": "86222c94-b9c8-40b4-9cae-f98f4a0616f4",
   "metadata": {},
   "source": [
    "### **Scratch work**"
   ]
  },
  {
   "cell_type": "code",
   "execution_count": 21,
   "id": "8709e380-abea-4e7b-b196-329ee9ebdd0c",
   "metadata": {},
   "outputs": [],
   "source": [
    "# This section includes nothing that needs to be marked. It is for the reproducibility of the data descriptions."
   ]
  },
  {
   "cell_type": "code",
   "execution_count": 27,
   "id": "e9a5f27b-945e-4165-83e3-2742f73a7969",
   "metadata": {},
   "outputs": [
    {
     "data": {
      "text/html": [
       "7"
      ],
      "text/latex": [
       "7"
      ],
      "text/markdown": [
       "7"
      ],
      "text/plain": [
       "[1] 7"
      ]
     },
     "metadata": {},
     "output_type": "display_data"
    },
    {
     "data": {
      "text/html": [
       "196"
      ],
      "text/latex": [
       "196"
      ],
      "text/markdown": [
       "196"
      ],
      "text/plain": [
       "[1] 196"
      ]
     },
     "metadata": {},
     "output_type": "display_data"
    },
    {
     "data": {
      "text/html": [
       "14"
      ],
      "text/latex": [
       "14"
      ],
      "text/markdown": [
       "14"
      ],
      "text/plain": [
       "[1] 14"
      ]
     },
     "metadata": {},
     "output_type": "display_data"
    },
    {
     "data": {
      "text/html": [
       "48"
      ],
      "text/latex": [
       "48"
      ],
      "text/markdown": [
       "48"
      ],
      "text/plain": [
       "[1] 48"
      ]
     },
     "metadata": {},
     "output_type": "display_data"
    },
    {
     "data": {
      "text/html": [
       "36"
      ],
      "text/latex": [
       "36"
      ],
      "text/markdown": [
       "36"
      ],
      "text/plain": [
       "[1] 36"
      ]
     },
     "metadata": {},
     "output_type": "display_data"
    },
    {
     "data": {
      "text/html": [
       "63"
      ],
      "text/latex": [
       "63"
      ],
      "text/markdown": [
       "63"
      ],
      "text/plain": [
       "[1] 63"
      ]
     },
     "metadata": {},
     "output_type": "display_data"
    },
    {
     "data": {
      "text/html": [
       "35"
      ],
      "text/latex": [
       "35"
      ],
      "text/markdown": [
       "35"
      ],
      "text/plain": [
       "[1] 35"
      ]
     },
     "metadata": {},
     "output_type": "display_data"
    },
    {
     "data": {
      "text/html": [
       "144"
      ],
      "text/latex": [
       "144"
      ],
      "text/markdown": [
       "144"
      ],
      "text/plain": [
       "[1] 144"
      ]
     },
     "metadata": {},
     "output_type": "display_data"
    },
    {
     "data": {
      "text/html": [
       "52"
      ],
      "text/latex": [
       "52"
      ],
      "text/markdown": [
       "52"
      ],
      "text/plain": [
       "[1] 52"
      ]
     },
     "metadata": {},
     "output_type": "display_data"
    },
    {
     "data": {
      "text/html": [
       "223.1"
      ],
      "text/latex": [
       "223.1"
      ],
      "text/markdown": [
       "223.1"
      ],
      "text/plain": [
       "[1] 223.1"
      ]
     },
     "metadata": {},
     "output_type": "display_data"
    },
    {
     "data": {
      "text/html": [
       "0"
      ],
      "text/latex": [
       "0"
      ],
      "text/markdown": [
       "0"
      ],
      "text/plain": [
       "[1] 0"
      ]
     },
     "metadata": {},
     "output_type": "display_data"
    },
    {
     "data": {
      "text/html": [
       "5.84591836734694"
      ],
      "text/latex": [
       "5.84591836734694"
      ],
      "text/markdown": [
       "5.84591836734694"
      ],
      "text/plain": [
       "[1] 5.845918"
      ]
     },
     "metadata": {},
     "output_type": "display_data"
    },
    {
     "data": {
      "text/html": [
       "124"
      ],
      "text/latex": [
       "124"
      ],
      "text/markdown": [
       "124"
      ],
      "text/plain": [
       "[1] 124"
      ]
     },
     "metadata": {},
     "output_type": "display_data"
    },
    {
     "data": {
      "text/html": [
       "37"
      ],
      "text/latex": [
       "37"
      ],
      "text/markdown": [
       "37"
      ],
      "text/plain": [
       "[1] 37"
      ]
     },
     "metadata": {},
     "output_type": "display_data"
    },
    {
     "data": {
      "text/html": [
       "15"
      ],
      "text/latex": [
       "15"
      ],
      "text/markdown": [
       "15"
      ],
      "text/plain": [
       "[1] 15"
      ]
     },
     "metadata": {},
     "output_type": "display_data"
    },
    {
     "data": {
      "text/html": [
       "11"
      ],
      "text/latex": [
       "11"
      ],
      "text/markdown": [
       "11"
      ],
      "text/plain": [
       "[1] 11"
      ]
     },
     "metadata": {},
     "output_type": "display_data"
    },
    {
     "data": {
      "text/html": [
       "2"
      ],
      "text/latex": [
       "2"
      ],
      "text/markdown": [
       "2"
      ],
      "text/plain": [
       "[1] 2"
      ]
     },
     "metadata": {},
     "output_type": "display_data"
    },
    {
     "data": {
      "text/html": [
       "6"
      ],
      "text/latex": [
       "6"
      ],
      "text/markdown": [
       "6"
      ],
      "text/plain": [
       "[1] 6"
      ]
     },
     "metadata": {},
     "output_type": "display_data"
    },
    {
     "data": {
      "text/html": [
       "1"
      ],
      "text/latex": [
       "1"
      ],
      "text/markdown": [
       "1"
      ],
      "text/plain": [
       "[1] 1"
      ]
     },
     "metadata": {},
     "output_type": "display_data"
    },
    {
     "data": {
      "text/html": [
       "50"
      ],
      "text/latex": [
       "50"
      ],
      "text/markdown": [
       "50"
      ],
      "text/plain": [
       "[1] 50"
      ]
     },
     "metadata": {},
     "output_type": "display_data"
    },
    {
     "data": {
      "text/html": [
       "8"
      ],
      "text/latex": [
       "8"
      ],
      "text/markdown": [
       "8"
      ],
      "text/plain": [
       "[1] 8"
      ]
     },
     "metadata": {},
     "output_type": "display_data"
    },
    {
     "data": {
      "text/html": [
       "20.520618556701"
      ],
      "text/latex": [
       "20.520618556701"
      ],
      "text/markdown": [
       "20.520618556701"
      ],
      "text/plain": [
       "[1] 20.52062"
      ]
     },
     "metadata": {},
     "output_type": "display_data"
    }
   ],
   "source": [
    "# information about players.csv\n",
    "ncol(players_raw)\n",
    "nrow(players_raw)\n",
    "\n",
    "# information about game experience\n",
    "filter(players_raw, experience == \"Pro\") |> nrow()\n",
    "filter(players_raw, experience == \"Veteran\") |> nrow()\n",
    "filter(players_raw, experience == \"Regular\") |> nrow()\n",
    "filter(players_raw, experience == \"Amateur\") |> nrow()\n",
    "filter(players_raw, experience == \"Beginner\") |> nrow()\n",
    "\n",
    "# subscribed to newsletter?\n",
    "filter(players_raw, subscribe == TRUE) |> nrow()\n",
    "filter(players_raw, subscribe == FALSE) |> nrow()\n",
    "\n",
    "# information about hours spent on server\n",
    "slice_max(players_raw, played_hours, n = 1) |> distinct(played_hours) |> pull()\n",
    "slice_min(players_raw, played_hours, n = 1) |> distinct(played_hours) |> pull()\n",
    "summarise(players_raw, avg_play = mean(played_hours, na.rm = TRUE)) |> pull()\n",
    "\n",
    "# information about player genders\n",
    "filter(players_raw, gender == \"Male\") |> nrow()\n",
    "filter(players_raw, gender == \"Female\") |> nrow()\n",
    "filter(players_raw, gender == \"Non-binary\") |> nrow()\n",
    "filter(players_raw, gender == \"Prefer not to say\") |> nrow()\n",
    "filter(players_raw, gender == \"Agender\") |> nrow()\n",
    "filter(players_raw, gender == \"Two-Spirited\") |> nrow()\n",
    "filter(players_raw, gender == \"Other\") |> nrow()\n",
    "\n",
    "# information about ages of participants\n",
    "slice_max(players_raw, Age, n = 1) |> distinct(Age) |> pull()\n",
    "slice_min(players_raw, Age, n = 1) |> distinct(Age) |> pull()\n",
    "summarise(players_raw, avg_age = mean(Age, na.rm = TRUE)) |> pull()"
   ]
  },
  {
   "cell_type": "code",
   "execution_count": null,
   "id": "e84b2efb-d48c-47a2-9e1d-34243ffabf2f",
   "metadata": {},
   "outputs": [],
   "source": []
  }
 ],
 "metadata": {
  "kernelspec": {
   "display_name": "R",
   "language": "R",
   "name": "ir"
  },
  "language_info": {
   "codemirror_mode": "r",
   "file_extension": ".r",
   "mimetype": "text/x-r-source",
   "name": "R",
   "pygments_lexer": "r",
   "version": "4.3.3"
  }
 },
 "nbformat": 4,
 "nbformat_minor": 5
}
