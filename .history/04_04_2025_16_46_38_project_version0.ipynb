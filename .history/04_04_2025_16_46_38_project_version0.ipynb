{
 "cells": [
  {
   "cell_type": "markdown",
   "id": "9610623b-ea17-432d-b073-7648cdd75086",
   "metadata": {},
   "source": [
    "# **Title**"
   ]
  },
  {
   "cell_type": "markdown",
   "id": "35058e7d-ad2c-49dc-ae84-ef6168501cfc",
   "metadata": {},
   "source": [
    "#### **Group members**\n",
    "> **Chau**, Alyson (45652765)\n",
    "<br>**Lee**, Jaye (83765560)\n",
    "<br>**Nejati**,Koorosh (65809485)\n",
    "<br>**Sun**, Oakley (48588198)"
   ]
  },
  {
   "cell_type": "markdown",
   "id": "880a6145-106a-4e8d-a0a4-3dff6a25fdb1",
   "metadata": {},
   "source": [
    "### **Introduction**"
   ]
  },
  {
   "cell_type": "markdown",
   "id": "aa9882e2-77e4-40b5-9b51-6337bcdb8e02",
   "metadata": {},
   "source": [
    "**ADD**: provide some relevant background information on the topic so that someone unfamiliar with it will be prepared to understand the rest of your report\n",
    "\n",
    "This year, we are presented with a very interesting and fun opportunity, which includes working with data from a Minecraft server. The Pacific Laboratory for Artificial Intelligence, \n",
    "PLAI for short, led by Dr. Frank Wood has built a custom Minecraft server to collect real-time data on how individuals play and behave within the game world. However, running the Minecraft server involves real costs, such as software licensing, hardware, and human resources. To make the most of these investments, the team needs to focus on recruiting players who are most likely to generate a significant amount of usable data. \n",
    "This leads to our central research question: What skill set and age are most likely to contribute higher playing time?\n",
    "We will use the players.csv file provided to us, which includes data of 197 participants, as well as important information on them for our question such as played hours, age, and skillset. \n",
    "Answering this question will help the research team better target their recruitment strategy, ensuring their resources are used effectively while maximizing the amount of high-quality data collected from participants.\n"
   ]
  },
  {
   "cell_type": "markdown",
   "id": "90827c19-74b6-48f6-bbab-bc6aff56117e",
   "metadata": {},
   "source": [
    "**Basic information**\n",
    "\n",
    "<u>Broad question 2</u>: What skill set and age are most likely to contribute the most data?\n",
    "\n",
    "<u>Dataset used</u>: players.csv (197 rows, 7 cols)\n",
    ">Column name - *(if numeric)*: max/min/mean\n",
    "<br>Column name - *(if non-numeric)*: unique value (frequency in data)\n",
    "<br>&ensp;&ensp;- Ratio of values in data\n",
    "\n",
    "\\+ Game experience - pro (14), veteran (48), regular (36), amateur (63), beginner (35)\n",
    "<br>&ensp;&ensp;- 7%, 24%, 18%, 32%, 18%\n",
    "<br>+ Subscribed to game-related newsletter? - yes (144), no (52)\n",
    "<br>&ensp;&ensp; - 73%, 27%\n",
    "<br>+ Email study participant used\n",
    "<br>+ Hours spent on server - 223.1/0/5.84\n",
    "<br>+ Name of study participant\n",
    "<br>+ Gender of study participant - male (124), female (37), non-binary (15), prefer not to say (11), agender (2), two-spirited (6), other (1)\n",
    "<br>&ensp;&ensp;- 63%, 19%, 8%, 6%, 1%, 3%, 0.5%\n",
    "<br>+ Age of study participant - 50/8/25.5"
   ]
  },
  {
   "cell_type": "markdown",
   "id": "aef7518f-1654-4cbb-8a8b-e99dd13c6e34",
   "metadata": {},
   "source": [
    "### **Methods & Results**"
   ]
  },
  {
   "cell_type": "markdown",
   "id": "bd5a18ba-c636-4e54-98e1-f2055acfa283",
   "metadata": {},
   "source": [
    "**ADD**: method summary \\\n",
    "To investigate which age group and skill set are most likely to contribute the most data, we conducted an exploratory and statistical analysis using the players.csv dataset. \n",
    "We began by loading the necessary libraries and reading in the dataset directly from its online source using the read_csv() function. After the data was loaded, we performed data wrangling and cleaning by selecting only the relevant columns: experience, played_hours, and age. We then used the filter() function to remove any rows containing missing values to ensure the integrity of subsequent analyses.\n",
    "Next, we prepared the data for exploratory data analysis. The experience variable was initially as a character and not a categorical variable(factor) so we turned it into factor using as_factor() function and then we converted its categories, which includes Beginner, Amateur, Regular, Veteran, and Pro into a numerical scale from 1 to 5 using fct_recode() and as.numerc() functions. This allowed us to analyze the data using visualizations that need numerical axis. The played_hours variable, which contains a wide range of values, was grouped into six categories based on the hours: minimal (0–1), trial (1–2), session (2–5), casual (5–30), moderate (30–100), and long_term (100+). Since the average number of hours played was around 6 and the maximum was 223 hours, we used narrower intervals for values under 10 hours, where most players are concentrated, and broader intervals for values above 10 hours to capture long-term players. These categories were created using the cut() function and were made to visualize broad time ranges and can be used for identifying trends within these time ranges.\n",
    "For the visualization of the dataset, we used ggplot to create a scatterplot .Our plot shows player age against skill level with different colors representing different categories of played_hours. This plot (Figure 1) helped us visually assess whether certain skill levels and age groups were associated with higher contribution. Also in order to better the presentation quality ,aesthetic qualities such as plot size,point size, transparency(alpha), and text size were adjusted.\n",
    "\\\n",
    "<u>*all*</u> non-code text under \\<temp> marks extra notes made during the coding process, should be deleted later. They are only for reference when writing the method summary.\n",
    "\\\n",
    "**TODO**: note: all figures should have a figure number and a legend"
   ]
  },
  {
   "cell_type": "code",
   "execution_count": null,
   "id": "7088da88-0d2d-4fc9-96c0-05afa19af402",
   "metadata": {},
   "outputs": [],
   "source": [
    "# loading libraries and data\n",
    "library(tidyverse)\n",
    "player_url <- \"https://raw.githubusercontent.com/Jaye136/project_data/refs/heads/main/players.csv\"\n",
    "players_raw <- read_csv(player_url)"
   ]
  },
  {
   "cell_type": "code",
   "execution_count": null,
   "id": "2a12e7f9-6acd-45ba-a0ad-4c261140d9c7",
   "metadata": {},
   "outputs": [],
   "source": [
    "# cleaning & wrangling\n",
    "# <temp>\n",
    "# 1. Select columns used\n",
    "# 2. Remove NA values\n",
    "players_clean <- players_raw |>\n",
    "select(experience, played_hours, Age) |>\n",
    "filter(!is.na(experience), !is.na(played_hours), !is.na(Age))"
   ]
  },
  {
   "cell_type": "code",
   "execution_count": null,
   "id": "1baaa272-04e0-442f-a57e-14c6c98684e6",
   "metadata": {},
   "outputs": [],
   "source": [
    "# creating a relavent summary to perform exploratory analysis\n",
    "# <temp>\n",
    "# want to find is there a relationship between experience and age/noticeable trends/etc.\n",
    "# we are making played_hours into categories to visualise broad time ranges with the colour argument of ggplot\n",
    "# as average is ~6hrs, and max is 223hrs, we create narrower categories for [0, 10], and broader categories for 10+\n",
    "# minimal: 0-1 hrs\n",
    "# trial: 1-2 hrs\n",
    "# session: 2-5 hrs\n",
    "# casual: 5-30 hrs\n",
    "# moderate: 30-100 hrs\n",
    "# long_term: 100+ hrs\n",
    "\n",
    "# <temp>\n",
    "# convert experience to numerical values (so can visualise)\n",
    "# reason we dont do barplot: hard to see axis values for age (if stacked, hard to see exact, if count/identity, inaccurate)\n",
    "players_exploratory <- players_clean |>\n",
    "mutate(experience = fct_recode(as_factor(experience),\n",
    "                               \"5\" = \"Pro\",\n",
    "                               \"4\" = \"Veteran\",\n",
    "                               \"3\" = \"Regular\",\n",
    "                               \"2\" = \"Amateur\",\n",
    "                               \"1\" = \"Beginner\")) |>\n",
    "mutate(experience = as.numeric(experience))\n",
    "\n",
    "# <temp>\n",
    "# convert played_hours to factor datatype, so we can colour\n",
    "players_exploratory$played_range_hrs <- cut(players_exploratory$played_hours, breaks = c(0, 1, 2, 5, 30, 100, Inf),\n",
    "                            right = FALSE,\n",
    "                           labels = c(\"minimal\", \"trial\", \"session\", \"casual\", \"moderate\", \"long_term\"))\n",
    "\n",
    "# select only needed\n",
    "players_exploratory <- players_exploratory |>\n",
    "select(experience, Age, played_range_hrs)"
   ]
  },
  {
   "cell_type": "code",
   "execution_count": null,
   "id": "91517869-f7d9-43f0-aee4-a676dc7f9a1a",
   "metadata": {},
   "outputs": [],
   "source": [
    "# visualising relevent parts of the data for exploratory analysis\n",
    "# <temp>\n",
    "# add labels, plot size options, other aesthetic options\n",
    "# only preliminary, can correct later\n",
    "options(repr.plot.height = 10, repr.plot.width = 14)\n",
    "players_exploratory_vis <- players_exploratory |>\n",
    "ggplot(aes(x = experience, y = Age, colour = played_range_hrs)) + geom_point(size = 2.5, alpha = 0.5) +\n",
    "scale_colour_brewer(palette = \"Set1\") + theme(text = element_text(size = 15), axis.title.x = element_text(vjust = -1), axis.title.y = element_text(vjust = 3), plot.title = element_text(vjust = 1)) +\n",
    "labs(x = \"Skill level of player \\n (1-Beginner, 2-Amateur, 3-Regular, 4-Veteran, 5-Pro)\",\n",
    "    y = \"<temp>\", title = \"Figure 1: <temp>\", colour = \"<temp>\")\n",
    "players_exploratory_vis"
   ]
  },
  {
   "cell_type": "code",
   "execution_count": null,
   "id": "fc9a191e-ef51-4b6c-9e71-1c8780d1b925",
   "metadata": {},
   "outputs": [],
   "source": [
    "# perform data analysis\n",
    "# <temp>\n",
    "# if there was relation found in previous part, WHAT demographic provides most data\n",
    "# do with regression? use players_clean, NOT players_explore. predicting played_hours using age and subscribe\n",
    "# create tibble of test values (EG. 15 yr old, regular), get model to predict played hrs? make list of demographics and test which one gives the highest played hours -> kind of like summary\n",
    "# model learns from data, able to guess if given new observations, what demographic on average would give highest values"
   ]
  },
  {
   "cell_type": "code",
   "execution_count": null,
   "id": "6389ac89-9f4c-4366-920e-b988d56dc787",
   "metadata": {},
   "outputs": [],
   "source": [
    "# visualise the data analysis"
   ]
  },
  {
   "cell_type": "markdown",
   "id": "9bc5545f-5391-495c-9c01-915814793b62",
   "metadata": {},
   "source": [
    "### **Discussion**"
   ]
  },
  {
   "cell_type": "markdown",
   "id": "a8b08240-add5-4c0c-9df1-da04076c971a",
   "metadata": {},
   "source": [
    "<u>What we found</u>: **ADD**\n",
    "<br><u>What we expected?</u>: \n",
    "<br><u>Effects of findings</u>: \n",
    "<br><u>Future questions</u>: "
   ]
  },
  {
   "cell_type": "markdown",
   "id": "6acdd092-f6b6-4a3b-8694-b677797c792f",
   "metadata": {},
   "source": [
    "### **References**"
   ]
  },
  {
   "cell_type": "markdown",
   "id": "ef8ad619-daa4-4257-9bc8-7d51a6615b23",
   "metadata": {},
   "source": [
    "Pacific Labratory for Artificial Intelligence (PLAI). (2024). *PLAICRAFT Player Data*, [Dataset]. UBC Department of Statistics. https://canvas.ubc.ca/courses/153254/files/37600949?wrap=1\n",
    "\n",
    "Converting range of values to categories:\n",
    "<br>**PROPERLY CITE** https://www.statology.org/cut-function-in-r/"
   ]
  },
  {
   "cell_type": "markdown",
   "id": "86222c94-b9c8-40b4-9cae-f98f4a0616f4",
   "metadata": {},
   "source": [
    "### **Scratch work**"
   ]
  },
  {
   "cell_type": "code",
   "execution_count": null,
   "id": "8709e380-abea-4e7b-b196-329ee9ebdd0c",
   "metadata": {},
   "outputs": [],
   "source": [
    "# This section includes nothing that needs to be marked. It is for the reproducibility of the data descriptions."
   ]
  },
  {
   "cell_type": "code",
   "execution_count": null,
   "id": "e9a5f27b-945e-4165-83e3-2742f73a7969",
   "metadata": {},
   "outputs": [],
   "source": [
    "# information about players.csv\n",
    "ncol(players_raw)\n",
    "nrow(players_raw)\n",
    "\n",
    "# information about game experience\n",
    "filter(players_raw, experience == \"Pro\") |> nrow()\n",
    "filter(players_raw, experience == \"Veteran\") |> nrow()\n",
    "filter(players_raw, experience == \"Regular\") |> nrow()\n",
    "filter(players_raw, experience == \"Amateur\") |> nrow()\n",
    "filter(players_raw, experience == \"Beginner\") |> nrow()\n",
    "\n",
    "# subscribed to newsletter?\n",
    "filter(players_raw, subscribe == TRUE) |> nrow()\n",
    "filter(players_raw, subscribe == FALSE) |> nrow()\n",
    "\n",
    "# information about hours spent on server\n",
    "slice_max(players_raw, played_hours, n = 1) |> distinct(played_hours) |> pull()\n",
    "slice_min(players_raw, played_hours, n = 1) |> distinct(played_hours) |> pull()\n",
    "summarise(players_raw, avg_play = mean(played_hours, na.rm = TRUE)) |> pull()\n",
    "\n",
    "# information about player genders\n",
    "filter(players_raw, gender == \"Male\") |> nrow()\n",
    "filter(players_raw, gender == \"Female\") |> nrow()\n",
    "filter(players_raw, gender == \"Non-binary\") |> nrow()\n",
    "filter(players_raw, gender == \"Prefer not to say\") |> nrow()\n",
    "filter(players_raw, gender == \"Agender\") |> nrow()\n",
    "filter(players_raw, gender == \"Two-Spirited\") |> nrow()\n",
    "filter(players_raw, gender == \"Other\") |> nrow()\n",
    "\n",
    "# information about ages of participants\n",
    "slice_max(players_raw, Age, n = 1) |> distinct(Age) |> pull()\n",
    "slice_min(players_raw, Age, n = 1) |> distinct(Age) |> pull()\n",
    "summarise(players_raw, avg_age = mean(Age, na.rm = TRUE)) |> pull()"
   ]
  },
  {
   "cell_type": "code",
   "execution_count": null,
   "id": "e84b2efb-d48c-47a2-9e1d-34243ffabf2f",
   "metadata": {},
   "outputs": [],
   "source": []
  }
 ],
 "metadata": {
  "kernelspec": {
   "display_name": "R",
   "language": "R",
   "name": "ir"
  },
  "language_info": {
   "codemirror_mode": "r",
   "file_extension": ".r",
   "mimetype": "text/x-r-source",
   "name": "R",
   "pygments_lexer": "r",
   "version": "4.3.3"
  }
 },
 "nbformat": 4,
 "nbformat_minor": 5
}
